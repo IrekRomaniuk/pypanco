{
 "cells": [
  {
   "cell_type": "markdown",
   "metadata": {},
   "source": [
    "### Preliminary"
   ]
  },
  {
   "cell_type": "code",
   "execution_count": 3,
   "metadata": {},
   "outputs": [],
   "source": [
    "import pan.xapi,time, sys, cmd, shlex\n",
    "from pandevice.base import PanDevice, pandevice\n",
    "from bs4 import BeautifulSoup"
   ]
  },
  {
   "cell_type": "code",
   "execution_count": 4,
   "metadata": {},
   "outputs": [],
   "source": [
    "username = 'admin'\n",
    "password = ''"
   ]
  },
  {
   "cell_type": "code",
   "execution_count": 10,
   "metadata": {},
   "outputs": [],
   "source": [
    "def get_pan_credentials(hostname):\n",
    "        \"\"\"Get credentials \"\"\"\n",
    "        cred = {}\n",
    "        cred['api_username'] = username\n",
    "        cred['api_password'] = password\n",
    "        cred['hostname'] = hostname\n",
    "        return cred"
   ]
  },
  {
   "cell_type": "code",
   "execution_count": 8,
   "metadata": {},
   "outputs": [],
   "source": [
    "hostname = '10.41.2.20'"
   ]
  },
  {
   "cell_type": "code",
   "execution_count": 11,
   "metadata": {},
   "outputs": [],
   "source": [
    "xapi = pan.xapi.PanXapi(**get_pan_credentials(hostname))"
   ]
  },
  {
   "cell_type": "code",
   "execution_count": 15,
   "metadata": {},
   "outputs": [],
   "source": [
    "command='show system info'\n",
    "cmd_xml=True"
   ]
  },
  {
   "cell_type": "code",
   "execution_count": 16,
   "metadata": {},
   "outputs": [],
   "source": [
    "xapi.op(cmd=command, cmd_xml=cmd_xml)"
   ]
  },
  {
   "cell_type": "code",
   "execution_count": 17,
   "metadata": {},
   "outputs": [
    {
     "data": {
      "text/plain": [
       "u'<system><hostname>PA-5060</hostname><ip-address>10.41.2.20</ip-address><public-ip-address>unknown</public-ip-address><netmask>255.255.255.0</netmask><default-gateway>10.41.2.1</default-gateway><is-dhcp>no</is-dhcp><ipv6-address>unknown</ipv6-address><ipv6-link-local-address>fe80::290:bff:fe53:1328/64</ipv6-link-local-address><ipv6-default-gateway /><mac-address>00:90:0b:53:13:28</mac-address><time>Mon May  6 12:35:55 2019\\n</time>\\n<uptime>0 days, 4:34:33</uptime>\\n<devicename>PA-5060</devicename>\\n<family>5000</family><model>PA-5060</model><serial>007901004626</serial><cloud-mode>non-cloud</cloud-mode>\\n<sw-version>8.1.6</sw-version>\\n<global-protect-client-package-version>0.0.0</global-protect-client-package-version>\\n<app-version>8083-5105</app-version>\\n<app-release-date>2018/10/24 01:22:05 EDT</app-release-date>\\n<av-version>0</av-version>\\n<av-release-date />\\n<threat-version>8083-5105</threat-version>\\n<threat-release-date>2018/10/24 01:22:05 EDT</threat-release-date>\\n<wf-private-version>0</wf-private-version>\\n<wf-private-release-date>unknown</wf-private-release-date>\\n<url-db>paloaltonetworks</url-db>\\n<wildfire-version>0</wildfire-version>\\n<wildfire-release-date />\\n<url-filtering-version>0000.00.00.000</url-filtering-version>\\n<global-protect-datafile-version>unknown</global-protect-datafile-version>\\n<global-protect-datafile-release-date>unknown</global-protect-datafile-release-date><global-protect-clientless-vpn-version>0</global-protect-clientless-vpn-version>\\n<global-protect-clientless-vpn-release-date />\\n<logdb-version>8.1.8</logdb-version>\\n<platform-family>5000</platform-family>\\n<vpn-disable-mode>off</vpn-disable-mode>\\n<multi-vsys>off</multi-vsys>\\n<operational-mode>normal</operational-mode>\\n</system>'"
      ]
     },
     "execution_count": 17,
     "metadata": {},
     "output_type": "execute_result"
    }
   ],
   "source": [
    "xapi.xml_result()"
   ]
  },
  {
   "cell_type": "code",
   "execution_count": null,
   "metadata": {},
   "outputs": [],
   "source": []
  }
 ],
 "metadata": {
  "kernelspec": {
   "display_name": "Python 2",
   "language": "python",
   "name": "python2"
  },
  "language_info": {
   "codemirror_mode": {
    "name": "ipython",
    "version": 2
   },
   "file_extension": ".py",
   "mimetype": "text/x-python",
   "name": "python",
   "nbconvert_exporter": "python",
   "pygments_lexer": "ipython2",
   "version": "2.7.15rc1"
  }
 },
 "nbformat": 4,
 "nbformat_minor": 2
}
