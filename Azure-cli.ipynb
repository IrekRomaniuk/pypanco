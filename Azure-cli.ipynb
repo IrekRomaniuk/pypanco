{
 "cells": [
  {
   "cell_type": "markdown",
   "metadata": {},
   "source": [
    "### Azure-cli in Python (How to run Azure CLI commands using python - Firefox preferred"
   ]
  },
  {
   "cell_type": "markdown",
   "metadata": {},
   "source": [
    "```\n",
    "$ virtualenv azure-cli\n",
    "Running virtualenv with interpreter /usr/bin/python2\n",
    "New python executable in /mnt/c/Users/iromaniuk/python-virtual-environments/azure-cli/bin/python2\n",
    "Also creating executable in /mnt/c/Users/iromaniuk/python-virtual-environments/azure-cli/bin/python\n",
    "Installing setuptools, pkg_resources, pip, wheel...done.\n",
    "$ source ../../python-virtual-environments/azure-cli/bin/activate\n",
    "(azure-cli) docker@PF1L54YP:/mnt/c/Users/iromaniuk/PythonProjects/pypanco$ pip install azure-cli-core\n",
    "(azure-cli) docker@PF1L54YP:/mnt/c/Users/iromaniuk/PythonProjects/pypanco$ ipython kernel install --user --name=azure-cli\n",
    "Installed kernelspec azure-cli in /home/docker/.local/share/jupyter/kernels/azure-cli\n",
    "(azure-cli) $ jupyter notebook\n",
    "```"
   ]
  },
  {
   "cell_type": "code",
   "execution_count": 1,
   "metadata": {},
   "outputs": [
    {
     "ename": "ImportError",
     "evalue": "No module named cli.core",
     "output_type": "error",
     "traceback": [
      "\u001b[0;31m---------------------------------------------------------------------------\u001b[0m",
      "\u001b[0;31mImportError\u001b[0m                               Traceback (most recent call last)",
      "\u001b[0;32m<ipython-input-1-c0133b65b689>\u001b[0m in \u001b[0;36m<module>\u001b[0;34m()\u001b[0m\n\u001b[0;32m----> 1\u001b[0;31m \u001b[0;32mfrom\u001b[0m \u001b[0mazure\u001b[0m\u001b[0;34m.\u001b[0m\u001b[0mcli\u001b[0m\u001b[0;34m.\u001b[0m\u001b[0mcore\u001b[0m \u001b[0;32mimport\u001b[0m \u001b[0mget_default_cli\u001b[0m\u001b[0;34m\u001b[0m\u001b[0m\n\u001b[0m",
      "\u001b[0;31mImportError\u001b[0m: No module named cli.core"
     ]
    }
   ],
   "source": [
    "from azure.cli.core import get_default_cli"
   ]
  },
  {
   "cell_type": "code",
   "execution_count": null,
   "metadata": {},
   "outputs": [],
   "source": []
  }
 ],
 "metadata": {
  "kernelspec": {
   "display_name": "Python 2",
   "language": "python",
   "name": "python2"
  },
  "language_info": {
   "codemirror_mode": {
    "name": "ipython",
    "version": 2
   },
   "file_extension": ".py",
   "mimetype": "text/x-python",
   "name": "python",
   "nbconvert_exporter": "python",
   "pygments_lexer": "ipython2",
   "version": "2.7.15rc1"
  }
 },
 "nbformat": 4,
 "nbformat_minor": 2
}
